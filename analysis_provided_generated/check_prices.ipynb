{
 "cells": [
  {
   "cell_type": "code",
   "execution_count": 2,
   "id": "c8d0a100-b045-4fc8-b85a-fdba81e7ed45",
   "metadata": {},
   "outputs": [
    {
     "name": "stderr",
     "output_type": "stream",
     "text": [
      "2023-02-23 12:14:39.698226: I tensorflow/core/platform/cpu_feature_guard.cc:193] This TensorFlow binary is optimized with oneAPI Deep Neural Network Library (oneDNN) to use the following CPU instructions in performance-critical operations:  SSE4.1 SSE4.2 AVX AVX2 AVX512F AVX512_VNNI FMA\n",
      "To enable them in other operations, rebuild TensorFlow with the appropriate compiler flags.\n",
      "2023-02-23 12:14:42.074750: I tensorflow/core/platform/cpu_feature_guard.cc:193] This TensorFlow binary is optimized with oneAPI Deep Neural Network Library (oneDNN) to use the following CPU instructions in performance-critical operations:  SSE4.1 SSE4.2 AVX AVX2 AVX512F AVX512_VNNI FMA\n",
      "To enable them in other operations, rebuild TensorFlow with the appropriate compiler flags.\n",
      "2023-02-23 12:14:42.076264: I tensorflow/core/common_runtime/process_util.cc:146] Creating new thread pool with default inter op setting: 2. Tune using inter_op_parallelism_threads for best performance.\n"
     ]
    }
   ],
   "source": [
    "import autokeras as ak # We need this otherwise model doesn't load :(\n",
    "from keras.models import load_model\n",
    "from PIL import Image\n",
    "from numpy import expand_dims, exp\n",
    "import tqdm\n",
    "import os\n",
    "import pandas as pd\n",
    "price_model = load_model(\"model-full128_trainlong.h5\", compile=False)\n",
    "\n",
    "IMG_INPUT_SIZE = (128, 128)\n",
    "def score(img):\n",
    "    prediction = price_model.predict(expand_dims(img.resize(IMG_INPUT_SIZE), axis=0))\n",
    "    # Values are log normalized\n",
    "    return exp(prediction).item(0)"
   ]
  },
  {
   "cell_type": "code",
   "execution_count": null,
   "id": "3021f79c-a191-45a4-9226-ace780a4d871",
   "metadata": {},
   "outputs": [],
   "source": [
    "if \"output_prices.csv\" in os.listdir():\n",
    "    output_prices_df = pd.read_csv(\"output_prices.csv\")\n",
    "else:\n",
    "    output_prices_df = pd.DataFrame(columns=[\"price\"])\n",
    "indices_done = list(output_prices_df.index.values.astype(int))\n",
    "\n",
    "for file in [filename for filename in os.listdir(\"Images\") if filename[-1] == 'g']:\n",
    "    index = int(file[:-4])\n",
    "    \n",
    "    if index not in indices_done:\n",
    "        with Image.open(\"Images/\"+file) as im:\n",
    "            try:\n",
    "                price = score(im)\n",
    "            except:\n",
    "                price = None\n",
    "            output_prices_df.loc[index] = price\n",
    "        output_prices_df.to_csv(\"output_prices.csv\", index=None)"
   ]
  },
  {
   "cell_type": "code",
   "execution_count": 6,
   "id": "81510ad8-a35a-48dd-afe3-e6cd04b47e39",
   "metadata": {},
   "outputs": [
    {
     "name": "stderr",
     "output_type": "stream",
     "text": [
      "/tmp/ipykernel_55825/71235130.py:11: SettingWithCopyWarning: \n",
      "A value is trying to be set on a copy of a slice from a DataFrame\n",
      "\n",
      "See the caveats in the documentation: https://pandas.pydata.org/pandas-docs/stable/user_guide/indexing.html#returning-a-view-versus-a-copy\n",
      "  generated_scores_df.source_artwork[index] = str(artworks_df.name.iloc[source_artwork_index])\n",
      "/tmp/ipykernel_55825/71235130.py:12: SettingWithCopyWarning: \n",
      "A value is trying to be set on a copy of a slice from a DataFrame\n",
      "\n",
      "See the caveats in the documentation: https://pandas.pydata.org/pandas-docs/stable/user_guide/indexing.html#returning-a-view-versus-a-copy\n",
      "  generated_scores_df.artist[index]  = str(artworks_df.artist_name.iloc[source_artwork_index])\n"
     ]
    }
   ],
   "source": [
    "artworks_df = pd.read_csv(\"artworks_with_prices_v3.csv\")\n",
    "generated_df = pd.read_csv(\"Generated.csv\")\n",
    "generated_scores_df = pd.read_csv(\"output_prices.csv\")\n",
    "\n",
    "# add artists to generated scores\n",
    "generated_scores_df[\"artist\"] = None\n",
    "generated_scores_df[\"source_artwork\"] = None\n",
    "indices = range(len(generated_scores_df))\n",
    "for index in indices:\n",
    "    source_artwork_index = generated_df.source_artwork.iloc[index]\n",
    "    generated_scores_df.source_artwork[index] = str(artworks_df.name.iloc[source_artwork_index])\n",
    "    generated_scores_df.artist[index]  = str(artworks_df.artist_name.iloc[source_artwork_index])\n",
    "\n",
    "generated_scores_df.to_csv(\"output_prices.csv\", index=None)"
   ]
  },
  {
   "cell_type": "code",
   "execution_count": null,
   "id": "071d66f8-201a-4de3-90de-f060fafd4ca3",
   "metadata": {},
   "outputs": [],
   "source": []
  }
 ],
 "metadata": {
  "kernelspec": {
   "display_name": "PyTorch",
   "language": "python",
   "name": "pytorch"
  },
  "language_info": {
   "codemirror_mode": {
    "name": "ipython",
    "version": 3
   },
   "file_extension": ".py",
   "mimetype": "text/x-python",
   "name": "python",
   "nbconvert_exporter": "python",
   "pygments_lexer": "ipython3",
   "version": "3.10.9"
  }
 },
 "nbformat": 4,
 "nbformat_minor": 5
}
