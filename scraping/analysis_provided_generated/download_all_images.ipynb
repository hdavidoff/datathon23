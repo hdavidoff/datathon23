{
 "cells": [
  {
   "cell_type": "code",
   "execution_count": 1,
   "id": "4f669fa6-f624-4cb1-b516-13b0a3ee3d8d",
   "metadata": {},
   "outputs": [],
   "source": [
    "import pandas as pd\n",
    "import requests\n",
    "import os\n",
    "import tqdm"
   ]
  },
  {
   "cell_type": "code",
   "execution_count": 2,
   "id": "b2601f9e-85ec-485d-955a-1480675051fd",
   "metadata": {},
   "outputs": [],
   "source": [
    "generated_df = pd.read_csv(\"Generated.csv\")"
   ]
  },
  {
   "cell_type": "code",
   "execution_count": 3,
   "id": "fdb557ad-ca9c-4111-b2f4-41cc7af1400e",
   "metadata": {},
   "outputs": [],
   "source": [
    "indices_images_done = set([int(file[:-4]) for file in os.listdir(\"Images\") if file[-1] == 'g'])\n",
    "indices_all = set(list(generated_df.index.values.astype(int)))\n",
    "indices_to_do = list(indices_all - indices_images_done)"
   ]
  },
  {
   "cell_type": "code",
   "execution_count": 4,
   "id": "f8de5af4-faa2-4b13-ad58-398708b00c41",
   "metadata": {},
   "outputs": [
    {
     "name": "stderr",
     "output_type": "stream",
     "text": [
      "0it [00:00, ?it/s]\n"
     ]
    }
   ],
   "source": [
    "for index in tqdm.tqdm(indices_to_do):\n",
    "    image_url = generated_df.url.iloc[index]\n",
    "    img_data = requests.get(image_url).content\n",
    "    with open(f'Images/{index}.png', 'wb') as handler:\n",
    "        handler.write(img_data)"
   ]
  }
 ],
 "metadata": {
  "kernelspec": {
   "display_name": "Python 3 (ipykernel)",
   "language": "python",
   "name": "python3"
  },
  "language_info": {
   "codemirror_mode": {
    "name": "ipython",
    "version": 3
   },
   "file_extension": ".py",
   "mimetype": "text/x-python",
   "name": "python",
   "nbconvert_exporter": "python",
   "pygments_lexer": "ipython3",
   "version": "3.10.9"
  }
 },
 "nbformat": 4,
 "nbformat_minor": 5
}
