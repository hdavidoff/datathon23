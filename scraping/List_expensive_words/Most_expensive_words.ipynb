{
 "cells": [
  {
   "cell_type": "code",
   "execution_count": null,
   "id": "c3151865",
   "metadata": {},
   "outputs": [],
   "source": [
    "# create a virtual environment and install autokeras, matplotlib, pyarrow\n",
    "# do not install keras or tensorflow one of them creates dependency issues\n",
    "\n",
    "# Necessary imports\n",
    "import autokeras as ak\n",
    "import matplotlib.pyplot as plt\n",
    "import numpy as np\n",
    "import PIL\n",
    "import os\n",
    "import pathlib\n",
    "import pandas as pd\n",
    "import math\n",
    "\n",
    "import io\n",
    "import requests\n",
    "from PIL import Image\n",
    "\n",
    "# check on housing data\n",
    "# prices in logscale\n",
    "# mirror images "
   ]
  },
  {
   "cell_type": "code",
   "execution_count": null,
   "id": "342a772e",
   "metadata": {},
   "outputs": [],
   "source": [
    "words = pd.read_csv('50_perc_most_expensive_words_labelled.csv')\n",
    "with open('nouns.txt', 'w') as n:\n",
    "    for i in range(len(words.Column1)):\n",
    "        if words.Column2[i] == 'n':\n",
    "            n.write(words.Column1[i].strip(' ')+'\\n')\n",
    "with open('adjectives.txt', 'w') as a:\n",
    "    for i in range(len(words.Column1)):\n",
    "        if words.Column2[i] == 'a':\n",
    "            a.write(words.Column1[i].strip(' ')+'\\n')\n",
    "with open('verbs.txt', 'w') as v:\n",
    "    for i in range(len(words.Column1)):\n",
    "        if words.Column2[i] == 'v':\n",
    "            v.write(words.Column1[i].strip(' ')+'\\n')"
   ]
  }
 ],
 "metadata": {
  "kernelspec": {
   "display_name": "autokerasenv",
   "language": "python",
   "name": "autokerasenv"
  },
  "language_info": {
   "codemirror_mode": {
    "name": "ipython",
    "version": 3
   },
   "file_extension": ".py",
   "mimetype": "text/x-python",
   "name": "python",
   "nbconvert_exporter": "python",
   "pygments_lexer": "ipython3",
   "version": "3.9.16"
  }
 },
 "nbformat": 4,
 "nbformat_minor": 5
}
